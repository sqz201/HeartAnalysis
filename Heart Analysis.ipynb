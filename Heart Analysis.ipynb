{
 "cells": [
  {
   "cell_type": "markdown",
   "metadata": {},
   "source": [
    "# Presence of Heart Disease \n",
    "\n",
    "Data below is from a Cleveland database with information connected to the presence of heart disease in a patient. The dataset holds 14 attributes including: age, sex, 'cp' or chest pain, 'trestbps' resting blood sugar in mm/Hg upon admission to the hospital, 'chol' serum cholestrol in mg/dl, 'fbs' fasting blood sugar > 120 mg/dl 1 = True, 0 = False, and more characteristics. There are approximately 303 rows, which each represent a different patient. \n",
    "\n",
    "I am interested in examining three questions about the dataset:\n",
    "\n",
    "**I. Do different genders experience different chest pains? Is there a relationship between gender and 'cp'? i.e. whether females or males experience different levels.**\n",
    "\n",
    "**II. Is there a relationship between cholestrol levels and 'trestbps' resting blood pressure upon admission to hospital?**\n",
    "\n",
    "**III. Is there a relationship bettween age and cholestrol? What are the top three cholestrol values?**\n",
    "\n",
    "\n",
    "_Source information:_\n",
    "\n",
    "_This database contains 76 attributes, but all published experiments refer to using a subset of 14 of them. In particular, the Cleveland database is the only one that has been used by ML researchers to this date. The \"goal\" field refers to the presence of heart disease in the patient. It is integer valued from 0 (no presence) to 4. Experiments with the Cleveland database have concentrated on simply attempting to distinguish presence (values 1,2,3,4) from absence (value 0).((The names and social security numbers of the patients were recently removed from the database, replaced with dummy values.))_\n",
    "\n",
    "\n",
    "\n",
    "\n"
   ]
  },
  {
   "cell_type": "code",
   "execution_count": 17,
   "metadata": {},
   "outputs": [],
   "source": [
    "import pandas as pd\n",
    "import numpy as np"
   ]
  },
  {
   "cell_type": "code",
   "execution_count": 18,
   "metadata": {},
   "outputs": [],
   "source": [
    "df = pd.read_csv(\"heart.csv\")"
   ]
  },
  {
   "cell_type": "markdown",
   "metadata": {},
   "source": [
    "Below we can see the main attributes of the dataset from age, sex, cp, .... to target."
   ]
  },
  {
   "cell_type": "code",
   "execution_count": 19,
   "metadata": {
    "scrolled": true
   },
   "outputs": [
    {
     "data": {
      "text/html": [
       "<div>\n",
       "<style scoped>\n",
       "    .dataframe tbody tr th:only-of-type {\n",
       "        vertical-align: middle;\n",
       "    }\n",
       "\n",
       "    .dataframe tbody tr th {\n",
       "        vertical-align: top;\n",
       "    }\n",
       "\n",
       "    .dataframe thead th {\n",
       "        text-align: right;\n",
       "    }\n",
       "</style>\n",
       "<table border=\"1\" class=\"dataframe\">\n",
       "  <thead>\n",
       "    <tr style=\"text-align: right;\">\n",
       "      <th></th>\n",
       "      <th>age</th>\n",
       "      <th>sex</th>\n",
       "      <th>cp</th>\n",
       "      <th>trestbps</th>\n",
       "      <th>chol</th>\n",
       "      <th>fbs</th>\n",
       "      <th>restecg</th>\n",
       "      <th>thalach</th>\n",
       "      <th>exang</th>\n",
       "      <th>oldpeak</th>\n",
       "      <th>slope</th>\n",
       "      <th>ca</th>\n",
       "      <th>thal</th>\n",
       "      <th>target</th>\n",
       "    </tr>\n",
       "  </thead>\n",
       "  <tbody>\n",
       "    <tr>\n",
       "      <th>0</th>\n",
       "      <td>63</td>\n",
       "      <td>1</td>\n",
       "      <td>3</td>\n",
       "      <td>145</td>\n",
       "      <td>233</td>\n",
       "      <td>1</td>\n",
       "      <td>0</td>\n",
       "      <td>150</td>\n",
       "      <td>0</td>\n",
       "      <td>2.3</td>\n",
       "      <td>0</td>\n",
       "      <td>0</td>\n",
       "      <td>1</td>\n",
       "      <td>1</td>\n",
       "    </tr>\n",
       "    <tr>\n",
       "      <th>1</th>\n",
       "      <td>37</td>\n",
       "      <td>1</td>\n",
       "      <td>2</td>\n",
       "      <td>130</td>\n",
       "      <td>250</td>\n",
       "      <td>0</td>\n",
       "      <td>1</td>\n",
       "      <td>187</td>\n",
       "      <td>0</td>\n",
       "      <td>3.5</td>\n",
       "      <td>0</td>\n",
       "      <td>0</td>\n",
       "      <td>2</td>\n",
       "      <td>1</td>\n",
       "    </tr>\n",
       "    <tr>\n",
       "      <th>2</th>\n",
       "      <td>41</td>\n",
       "      <td>0</td>\n",
       "      <td>1</td>\n",
       "      <td>130</td>\n",
       "      <td>204</td>\n",
       "      <td>0</td>\n",
       "      <td>0</td>\n",
       "      <td>172</td>\n",
       "      <td>0</td>\n",
       "      <td>1.4</td>\n",
       "      <td>2</td>\n",
       "      <td>0</td>\n",
       "      <td>2</td>\n",
       "      <td>1</td>\n",
       "    </tr>\n",
       "    <tr>\n",
       "      <th>3</th>\n",
       "      <td>56</td>\n",
       "      <td>1</td>\n",
       "      <td>1</td>\n",
       "      <td>120</td>\n",
       "      <td>236</td>\n",
       "      <td>0</td>\n",
       "      <td>1</td>\n",
       "      <td>178</td>\n",
       "      <td>0</td>\n",
       "      <td>0.8</td>\n",
       "      <td>2</td>\n",
       "      <td>0</td>\n",
       "      <td>2</td>\n",
       "      <td>1</td>\n",
       "    </tr>\n",
       "    <tr>\n",
       "      <th>4</th>\n",
       "      <td>57</td>\n",
       "      <td>0</td>\n",
       "      <td>0</td>\n",
       "      <td>120</td>\n",
       "      <td>354</td>\n",
       "      <td>0</td>\n",
       "      <td>1</td>\n",
       "      <td>163</td>\n",
       "      <td>1</td>\n",
       "      <td>0.6</td>\n",
       "      <td>2</td>\n",
       "      <td>0</td>\n",
       "      <td>2</td>\n",
       "      <td>1</td>\n",
       "    </tr>\n",
       "  </tbody>\n",
       "</table>\n",
       "</div>"
      ],
      "text/plain": [
       "   age  sex  cp  trestbps  chol  fbs  restecg  thalach  exang  oldpeak  slope  \\\n",
       "0   63    1   3       145   233    1        0      150      0      2.3      0   \n",
       "1   37    1   2       130   250    0        1      187      0      3.5      0   \n",
       "2   41    0   1       130   204    0        0      172      0      1.4      2   \n",
       "3   56    1   1       120   236    0        1      178      0      0.8      2   \n",
       "4   57    0   0       120   354    0        1      163      1      0.6      2   \n",
       "\n",
       "   ca  thal  target  \n",
       "0   0     1       1  \n",
       "1   0     2       1  \n",
       "2   0     2       1  \n",
       "3   0     2       1  \n",
       "4   0     2       1  "
      ]
     },
     "execution_count": 19,
     "metadata": {},
     "output_type": "execute_result"
    }
   ],
   "source": [
    "df.head()"
   ]
  },
  {
   "cell_type": "code",
   "execution_count": 20,
   "metadata": {},
   "outputs": [],
   "source": [
    "import matplotlib.pyplot as plt\n",
    "%matplotlib inline\n",
    "import matplotlib.gridspec as gridspec"
   ]
  },
  {
   "cell_type": "markdown",
   "metadata": {},
   "source": [
    "In this dataset, we can see that there are 303 rows across 14 columns. Columns exhibit both numerical and categorical data including both resting beats per second, cholestrol levels, and gender. "
   ]
  },
  {
   "cell_type": "code",
   "execution_count": 21,
   "metadata": {
    "scrolled": true
   },
   "outputs": [
    {
     "data": {
      "text/plain": [
       "(303, 14)"
      ]
     },
     "execution_count": 21,
     "metadata": {},
     "output_type": "execute_result"
    }
   ],
   "source": [
    "df.shape"
   ]
  },
  {
   "cell_type": "markdown",
   "metadata": {},
   "source": [
    "In this section, I will look at the first question:\n",
    "\n",
    "**I. Do different genders experience different chest pains? Is there a relationship between gender and 'cp'? i.e. whether females or males experience different levels.**\n",
    "\n",
    "I find that in terms of the greatest chest pain, the gender that experiences that them ost is male. "
   ]
  },
  {
   "cell_type": "code",
   "execution_count": 22,
   "metadata": {
    "scrolled": true
   },
   "outputs": [
    {
     "data": {
      "text/plain": [
       "0     3\n",
       "13    3\n",
       "14    3\n",
       "17    3\n",
       "19    3\n",
       "Name: cp, dtype: int64"
      ]
     },
     "execution_count": 22,
     "metadata": {},
     "output_type": "execute_result"
    }
   ],
   "source": [
    "df['cp'].nlargest(5)"
   ]
  },
  {
   "cell_type": "code",
   "execution_count": 91,
   "metadata": {},
   "outputs": [
    {
     "data": {
      "text/plain": [
       "1.0"
      ]
     },
     "execution_count": 91,
     "metadata": {},
     "output_type": "execute_result"
    }
   ],
   "source": [
    "df['cp'].mean()\n",
    "\n",
    "#Patients have a level of chest pain that is centered around a mean of 1 on a scale of 0 to 3\n",
    "np.percentile(df.cp, 50)\n",
    "\n",
    "#The median is equal to and consistent to the mean of chest pain"
   ]
  },
  {
   "cell_type": "code",
   "execution_count": 23,
   "metadata": {},
   "outputs": [
    {
     "name": "stdout",
     "output_type": "stream",
     "text": [
      "     age  sex  cp  trestbps  chol  fbs  restecg  thalach  exang  oldpeak  \\\n",
      "0     63    1   3       145   233    1        0      150      0      2.3   \n",
      "13    64    1   3       110   211    0        0      144      1      1.8   \n",
      "14    58    0   3       150   283    1        0      162      0      1.0   \n",
      "17    66    0   3       150   226    0        1      114      0      2.6   \n",
      "19    69    0   3       140   239    0        1      151      0      1.8   \n",
      "24    40    1   3       140   199    0        1      178      1      1.4   \n",
      "34    51    1   3       125   213    0        0      125      1      1.4   \n",
      "58    34    1   3       118   182    0        0      174      0      0.0   \n",
      "62    52    1   3       118   186    0        0      190      0      0.0   \n",
      "83    52    1   3       152   298    1        1      178      0      1.2   \n",
      "100   42    1   3       148   244    0        0      178      0      0.8   \n",
      "101   59    1   3       178   270    0        0      145      0      4.2   \n",
      "106   69    1   3       160   234    1        0      131      0      0.1   \n",
      "117   56    1   3       120   193    0        0      162      0      1.9   \n",
      "147   60    0   3       150   240    0        1      171      0      0.9   \n",
      "152   64    1   3       170   227    0        0      155      0      0.6   \n",
      "222   65    1   3       138   282    1        0      174      0      1.4   \n",
      "228   59    1   3       170   288    0        0      159      0      0.2   \n",
      "254   59    1   3       160   273    0        0      125      0      0.0   \n",
      "259   38    1   3       120   231    0        1      182      1      3.8   \n",
      "271   61    1   3       134   234    0        1      145      0      2.6   \n",
      "286   59    1   3       134   204    0        1      162      0      0.8   \n",
      "299   45    1   3       110   264    0        1      132      0      1.2   \n",
      "\n",
      "     slope  ca  thal  target  \n",
      "0        0   0     1       1  \n",
      "13       1   0     2       1  \n",
      "14       2   0     2       1  \n",
      "17       0   0     2       1  \n",
      "19       2   2     2       1  \n",
      "24       2   0     3       1  \n",
      "34       2   1     2       1  \n",
      "58       2   0     2       1  \n",
      "62       1   0     1       1  \n",
      "83       1   0     3       1  \n",
      "100      2   2     2       1  \n",
      "101      0   0     3       1  \n",
      "106      1   1     2       1  \n",
      "117      1   0     3       1  \n",
      "147      2   0     2       1  \n",
      "152      1   0     3       1  \n",
      "222      1   1     2       0  \n",
      "228      1   0     3       0  \n",
      "254      2   0     2       0  \n",
      "259      1   0     3       0  \n",
      "271      1   2     2       0  \n",
      "286      2   2     2       0  \n",
      "299      1   0     3       0  \n"
     ]
    }
   ],
   "source": [
    "#Here we are segmenting the data by the highest chest pains\n",
    "\n",
    "levelthree_cp = df[df['cp'] == 3]\n",
    "\n",
    "print(levelthree_cp)"
   ]
  },
  {
   "cell_type": "code",
   "execution_count": 41,
   "metadata": {},
   "outputs": [
    {
     "name": "stdout",
     "output_type": "stream",
     "text": [
      "0      1\n",
      "13     1\n",
      "14     0\n",
      "17     0\n",
      "19     0\n",
      "24     1\n",
      "34     1\n",
      "58     1\n",
      "62     1\n",
      "83     1\n",
      "100    1\n",
      "101    1\n",
      "106    1\n",
      "117    1\n",
      "147    0\n",
      "152    1\n",
      "222    1\n",
      "228    1\n",
      "254    1\n",
      "259    1\n",
      "271    1\n",
      "286    1\n",
      "299    1\n",
      "Name: sex, dtype: int64\n",
      "23\n"
     ]
    }
   ],
   "source": [
    "#Out of the top chest pains, how many are diagnosed to each gender?\n",
    "\n",
    "print(levelthree_cp['sex'])\n",
    "\n",
    "\n",
    "levelthree_cp = levelthree_cp[['sex']] \n",
    "#With this, we see that there may be a relationship between chest pain and gender. Four out of the n chest pain level = 3 patients are female, while the rest are male\n",
    "\n",
    "\n",
    "print(len(levelthree_cp))\n",
    "\n",
    "#There are 23 patients with highest chest pain out of 303 total patients, out of those 4 are female and 19 are male. "
   ]
  },
  {
   "cell_type": "code",
   "execution_count": 47,
   "metadata": {},
   "outputs": [
    {
     "data": {
      "text/plain": [
       "<matplotlib.axes._subplots.AxesSubplot at 0x12234edd8>"
      ]
     },
     "execution_count": 47,
     "metadata": {},
     "output_type": "execute_result"
    },
    {
     "data": {
      "image/png": "[encoded data removed]",
      "text/plain": [
       "<Figure size 432x288 with 1 Axes>"
      ]
     },
     "metadata": {
      "needs_background": "light"
     },
     "output_type": "display_data"
    }
   ],
   "source": [
    "levelthree_cp['sex'].value_counts().plot(kind= 'bar', y= 'trips', x= 'sex', title= 'Level Three Chest Pain by Gender')\n"
   ]
  },
  {
   "cell_type": "code",
   "execution_count": 55,
   "metadata": {},
   "outputs": [
    {
     "data": {
      "image/png": "[encoded data removed]",
      "text/plain": [
       "<Figure size 1080x576 with 1 Axes>"
      ]
     },
     "metadata": {
      "needs_background": "light"
     },
     "output_type": "display_data"
    }
   ],
   "source": [
    "allchestpain = df[['cp', 'sex']]\n",
    "\n",
    "allchestpain.plot(kind='scatter', x='sex', y= 'cp', figsize=(15,8),  color=('r'))\n",
    "plt.xlabel(\"Gender\", labelpad=15, fontsize = 15)\n",
    "plt.ylabel(\"Chest Pain\", labelpad=15, fontsize = 15)\n",
    "plt.title(\"Gender and Chest Pain Scatter Plot\", fontsize = 20)\n",
    "plt.show()"
   ]
  },
  {
   "cell_type": "code",
   "execution_count": 84,
   "metadata": {},
   "outputs": [
    {
     "name": "stdout",
     "output_type": "stream",
     "text": [
      "    sex\n",
      "cp     \n",
      "0   104\n",
      "1    32\n",
      "2    52\n",
      "3    19\n",
      "     cp  sex\n",
      "0     3    1\n",
      "1     2    1\n",
      "3     1    1\n",
      "5     0    1\n",
      "7     1    1\n",
      "8     2    1\n",
      "9     2    1\n",
      "10    0    1\n",
      "12    1    1\n",
      "13    3    1\n",
      "18    0    1\n",
      "20    0    1\n",
      "21    2    1\n",
      "22    0    1\n",
      "23    2    1\n",
      "24    3    1\n",
      "26    2    1\n",
      "27    2    1\n",
      "29    2    1\n",
      "31    0    1\n",
      "32    1    1\n",
      "33    2    1\n",
      "34    3    1\n",
      "37    2    1\n",
      "41    1    1\n",
      "42    0    1\n",
      "44    2    1\n",
      "45    1    1\n",
      "46    2    1\n",
      "47    2    1\n",
      "..   ..  ...\n",
      "267   2    1\n",
      "268   0    1\n",
      "269   0    1\n",
      "270   0    1\n",
      "271   3    1\n",
      "272   0    1\n",
      "273   0    1\n",
      "274   0    1\n",
      "275   0    1\n",
      "276   0    1\n",
      "277   1    1\n",
      "279   0    1\n",
      "280   0    1\n",
      "281   0    1\n",
      "282   2    1\n",
      "283   0    1\n",
      "284   0    1\n",
      "285   0    1\n",
      "286   3    1\n",
      "287   1    1\n",
      "288   0    1\n",
      "290   0    1\n",
      "291   0    1\n",
      "293   2    1\n",
      "294   0    1\n",
      "295   0    1\n",
      "297   0    1\n",
      "299   3    1\n",
      "300   0    1\n",
      "301   0    1\n",
      "\n",
      "[207 rows x 2 columns]\n"
     ]
    }
   ],
   "source": [
    "allchestpainf = allchestpain[allchestpain['sex'] == 1]\n",
    "\n",
    "allchestpainf.groupby('cp').sum()\n",
    "\n",
    "print(allchestpainf.groupby('cp').sum())\n",
    "\n",
    "print(allchestpainf)"
   ]
  },
  {
   "cell_type": "code",
   "execution_count": 88,
   "metadata": {},
   "outputs": [],
   "source": [
    "#allchestpainf.groupby('cp').sum().plot(kind='bar', x ='cp', y='sex', figsize=(15,8),  color=('r'))\n",
    "#plt.xlabel(\"Gender\", labelpad=15, fontsize = 15)\n",
    "#plt.ylabel(\"Chest Pain\", labelpad=15, fontsize = 15)\n",
    "#plt.title(\"Gender and Chest Pain Scatter Plot\", fontsize = 20)\n",
    "#plt.show()"
   ]
  },
  {
   "cell_type": "markdown",
   "metadata": {},
   "source": [
    "In this section, I will look at the second question:\n",
    "\n",
    "**II. Is there a relationship between cholestrol levels and 'trestbps' resting blood pressure upon admission to the hospital?**"
   ]
  },
  {
   "cell_type": "code",
   "execution_count": 97,
   "metadata": {},
   "outputs": [
    {
     "data": {
      "text/plain": [
       "<matplotlib.axes._subplots.AxesSubplot at 0x1238b64a8>"
      ]
     },
     "execution_count": 97,
     "metadata": {},
     "output_type": "execute_result"
    },
    {
     "data": {
      "image/png": "[encoded data removed]",
      "text/plain": [
       "<Figure size 432x288 with 1 Axes>"
      ]
     },
     "metadata": {
      "needs_background": "light"
     },
     "output_type": "display_data"
    }
   ],
   "source": [
    "df.plot(kind= 'scatter', y= 'chol', x= 'trestbps', title= 'Cholesterol Levels Over Resting Blood Pressure')"
   ]
  },
  {
   "cell_type": "code",
   "execution_count": 98,
   "metadata": {},
   "outputs": [
    {
     "data": {
      "text/html": [
       "<div>\n",
       "<style scoped>\n",
       "    .dataframe tbody tr th:only-of-type {\n",
       "        vertical-align: middle;\n",
       "    }\n",
       "\n",
       "    .dataframe tbody tr th {\n",
       "        vertical-align: top;\n",
       "    }\n",
       "\n",
       "    .dataframe thead th {\n",
       "        text-align: right;\n",
       "    }\n",
       "</style>\n",
       "<table border=\"1\" class=\"dataframe\">\n",
       "  <thead>\n",
       "    <tr style=\"text-align: right;\">\n",
       "      <th></th>\n",
       "      <th>chol</th>\n",
       "      <th>trestbps</th>\n",
       "    </tr>\n",
       "  </thead>\n",
       "  <tbody>\n",
       "    <tr>\n",
       "      <th>chol</th>\n",
       "      <td>1.000000</td>\n",
       "      <td>0.123174</td>\n",
       "    </tr>\n",
       "    <tr>\n",
       "      <th>trestbps</th>\n",
       "      <td>0.123174</td>\n",
       "      <td>1.000000</td>\n",
       "    </tr>\n",
       "  </tbody>\n",
       "</table>\n",
       "</div>"
      ],
      "text/plain": [
       "              chol  trestbps\n",
       "chol      1.000000  0.123174\n",
       "trestbps  0.123174  1.000000"
      ]
     },
     "execution_count": 98,
     "metadata": {},
     "output_type": "execute_result"
    }
   ],
   "source": [
    "#determine correlation so we may know more information about this relationship\n",
    "\n",
    "data = df[['chol', 'trestbps']]\n",
    "\n",
    "data.corr(method='pearson')\n",
    "\n",
    "#Here we can see that there is a weak, but positive relationship between serum cholestrol levels and resting blood pressure amongst admission to the hospital"
   ]
  },
  {
   "cell_type": "markdown",
   "metadata": {},
   "source": [
    "In this section, I will look at the final question:\n",
    "\n",
    "**III. Is there a relationship bettween age and cholestrol? What are the top three cholestrol values?**"
   ]
  },
  {
   "cell_type": "code",
   "execution_count": 100,
   "metadata": {},
   "outputs": [
    {
     "data": {
      "text/plain": [
       "85     564\n",
       "28     417\n",
       "246    409\n",
       "Name: chol, dtype: int64"
      ]
     },
     "execution_count": 100,
     "metadata": {},
     "output_type": "execute_result"
    }
   ],
   "source": [
    "df['chol'].nlargest(3)\n",
    "\n",
    "#These are the top three cholestrol levels"
   ]
  },
  {
   "cell_type": "code",
   "execution_count": 102,
   "metadata": {},
   "outputs": [
    {
     "data": {
      "text/plain": [
       "<matplotlib.axes._subplots.AxesSubplot at 0x123a039e8>"
      ]
     },
     "execution_count": 102,
     "metadata": {},
     "output_type": "execute_result"
    },
    {
     "data": {
      "image/png": "[encoded data removed]",
      "text/plain": [
       "<Figure size 432x288 with 1 Axes>"
      ]
     },
     "metadata": {
      "needs_background": "light"
     },
     "output_type": "display_data"
    }
   ],
   "source": [
    "df.plot(kind= 'scatter', y= 'chol', x= 'age', title= 'Cholesterol Levels Over Age of Patients')"
   ]
  },
  {
   "cell_type": "code",
   "execution_count": 105,
   "metadata": {},
   "outputs": [],
   "source": [
    "data1 = df[['chol', 'age']]"
   ]
  },
  {
   "cell_type": "code",
   "execution_count": 107,
   "metadata": {},
   "outputs": [
    {
     "data": {
      "text/html": [
       "<div>\n",
       "<style scoped>\n",
       "    .dataframe tbody tr th:only-of-type {\n",
       "        vertical-align: middle;\n",
       "    }\n",
       "\n",
       "    .dataframe tbody tr th {\n",
       "        vertical-align: top;\n",
       "    }\n",
       "\n",
       "    .dataframe thead th {\n",
       "        text-align: right;\n",
       "    }\n",
       "</style>\n",
       "<table border=\"1\" class=\"dataframe\">\n",
       "  <thead>\n",
       "    <tr style=\"text-align: right;\">\n",
       "      <th></th>\n",
       "      <th>chol</th>\n",
       "      <th>age</th>\n",
       "    </tr>\n",
       "  </thead>\n",
       "  <tbody>\n",
       "    <tr>\n",
       "      <th>chol</th>\n",
       "      <td>1.000000</td>\n",
       "      <td>0.213678</td>\n",
       "    </tr>\n",
       "    <tr>\n",
       "      <th>age</th>\n",
       "      <td>0.213678</td>\n",
       "      <td>1.000000</td>\n",
       "    </tr>\n",
       "  </tbody>\n",
       "</table>\n",
       "</div>"
      ],
      "text/plain": [
       "          chol       age\n",
       "chol  1.000000  0.213678\n",
       "age   0.213678  1.000000"
      ]
     },
     "execution_count": 107,
     "metadata": {},
     "output_type": "execute_result"
    }
   ],
   "source": [
    "data1.corr(method='pearson')\n",
    "\n",
    "#Here we can see that there is a weak, but positive relationship between serum cholestrol levels and age of patients\n",
    "\n",
    "#This correlation is slightly higher than that of trestbps and cholestrol but still is not significant"
   ]
  },
  {
   "cell_type": "code",
   "execution_count": null,
   "metadata": {},
   "outputs": [],
   "source": []
  }
 ],
 "metadata": {
  "kernelspec": {
   "display_name": "Python 3",
   "language": "python",
   "name": "python3"
  },
  "language_info": {
   "codemirror_mode": {
    "name": "ipython",
    "version": 3
   },
   "file_extension": ".py",
   "mimetype": "text/x-python",
   "name": "python",
   "nbconvert_exporter": "python",
   "pygments_lexer": "ipython3",
   "version": "3.7.3"
  }
 },
 "nbformat": 4,
 "nbformat_minor": 2
}
